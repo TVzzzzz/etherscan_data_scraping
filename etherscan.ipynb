{
 "cells": [
  {
   "cell_type": "code",
   "execution_count": 6,
   "metadata": {
    "collapsed": false
   },
   "outputs": [],
   "source": [
    "from etherscan.accounts import Account\n",
    "import json\n",
    "import csv\n",
    "\n",
    "\n",
    "with open('api_key.json', mode='r') as key_file:\n",
    "    key = json.loads(key_file.read())['key']\n",
    "\n",
    "    \n",
    "with open('eth_ICO_addresses.csv', mode='r') as infile:\n",
    "    reader = csv.reader(infile)\n",
    "    ICOs = []\n",
    "    name_dict = {}\n",
    "    for row in reader:\n",
    "        name = row[0].strip()\n",
    "        address = row[1].strip()\n",
    "        ICOs += [[name, address]]\n",
    "        name_dict[address] = name\n",
    "\n",
    "def get_donors(address):\n",
    "    api = Account(address=address, api_key=key)\n",
    "    all_tx_data = api.get_all_transactions(offset=10000, sort='asc', internal=True)\n",
    "    \n",
    "    transactions = []\n",
    "    for tx in all_tx_data:\n",
    "        if (tx['isError'] == '0'):\n",
    "            transactions += [[tx['from'], tx['value'], tx['timeStamp']]]\n",
    "\n",
    "    return transactions\n",
    "\n"
   ]
  },
  {
   "cell_type": "code",
   "execution_count": 29,
   "metadata": {
    "collapsed": false
   },
   "outputs": [
    {
     "name": "stdout",
     "output_type": "stream",
     "text": [
      "number of ICOS =  13\n"
     ]
    }
   ],
   "source": [
    "num_ICOs = len(ICOs)\n",
    "print(\"number of ICOS = \", num_ICOs)\n"
   ]
  },
  {
   "cell_type": "markdown",
   "metadata": {},
   "source": [
    "### loop through all ICOs and scrape data to all_txs list\n"
   ]
  },
  {
   "cell_type": "code",
   "execution_count": 8,
   "metadata": {
    "collapsed": false
   },
   "outputs": [
    {
     "name": "stdout",
     "output_type": "stream",
     "text": [
      "page 1 added\n",
      "Total number of transactions: 11\n",
      "page 1 added\n",
      "Total number of transactions: 46\n",
      "page 1 added\n",
      "Total number of transactions: 790\n",
      "page 1 added\n",
      "Total number of transactions: 764\n",
      "page 1 added\n",
      "Total number of transactions: 2242\n",
      "page 1 added\n",
      "page 2 added\n",
      "Total number of transactions: 13649\n",
      "page 1 added\n",
      "Total number of transactions: 7\n",
      "page 1 added\n",
      "Total number of transactions: 42\n",
      "page 1 added\n",
      "page 2 added\n",
      "page 3 added\n",
      "page 4 added\n",
      "page 5 added\n",
      "Total number of transactions: 40010\n",
      "page 1 added\n",
      "Total number of transactions: 6\n",
      "page 1 added\n",
      "Total number of transactions: 3571\n",
      "page 1 added\n",
      "Total number of transactions: 4723\n",
      "page 1 added\n",
      "Total number of transactions: 4723\n"
     ]
    }
   ],
   "source": [
    "all_txs = []\n",
    "for i in range(num_ICOs):\n",
    "    all_txs += [get_donors(ICOs[i][1])]\n",
    "    \n",
    "    "
   ]
  },
  {
   "cell_type": "markdown",
   "metadata": {},
   "source": [
    "### Optional save of scraped data to .pkl file "
   ]
  },
  {
   "cell_type": "code",
   "execution_count": 11,
   "metadata": {
    "collapsed": false
   },
   "outputs": [],
   "source": [
    "import pickle\n",
    "\n",
    "fileheader = str(num_icos)+\"icos\"\n",
    "\n",
    "pickle.dump(all_txs, open( fileheader+\".pkl\", \"wb\" ) )"
   ]
  },
  {
   "cell_type": "markdown",
   "metadata": {},
   "source": [
    "### Optional save of all scraped data to .csv file"
   ]
  },
  {
   "cell_type": "code",
   "execution_count": 30,
   "metadata": {
    "collapsed": false
   },
   "outputs": [],
   "source": [
    "import csv\n",
    "\n",
    "fileheader = str(num_icos)+\"icos\"\n",
    "\n",
    "with open(fileheader+'.csv', 'w', newline='') as csvfile:\n",
    "    csvfile.write(\"IPO, transaction, amount, timestamp \\n\")\n",
    "    mywriter = csv.writer(csvfile, delimiter=',')\n",
    "    for i in range(num_ICOs):\n",
    "        for j in range(len(all_txs[i])):\n",
    "            mywriter.writerow([ICOs[i][0]]+all_txs[i][j])\n"
   ]
  },
  {
   "cell_type": "markdown",
   "metadata": {},
   "source": [
    "### Optional load of scraped data from .pkl file \n",
    "\n",
    "    "
   ]
  },
  {
   "cell_type": "code",
   "execution_count": 16,
   "metadata": {
    "collapsed": false
   },
   "outputs": [],
   "source": [
    "import pickle \n",
    "\n",
    "all_txs = pickle.load(open(\"13icos.pkl\", 'rb'))"
   ]
  },
  {
   "cell_type": "markdown",
   "metadata": {},
   "source": [
    "### See if any transaction addresses are shared between ICOs\n"
   ]
  },
  {
   "cell_type": "code",
   "execution_count": null,
   "metadata": {
    "collapsed": true
   },
   "outputs": [],
   "source": [
    "# (under construction, planning to use set() function)"
   ]
  }
 ],
 "metadata": {
  "kernelspec": {
   "display_name": "Python 3",
   "language": "python",
   "name": "python3"
  },
  "language_info": {
   "codemirror_mode": {
    "name": "ipython",
    "version": 3
   },
   "file_extension": ".py",
   "mimetype": "text/x-python",
   "name": "python",
   "nbconvert_exporter": "python",
   "pygments_lexer": "ipython3",
   "version": "3.6.0"
  }
 },
 "nbformat": 4,
 "nbformat_minor": 2
}
